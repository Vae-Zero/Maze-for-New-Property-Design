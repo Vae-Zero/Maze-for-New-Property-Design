{
 "cells": [
  {
   "cell_type": "code",
   "execution_count": 1,
   "id": "e2fe673d",
   "metadata": {
    "ExecuteTime": {
     "end_time": "2022-01-09T08:31:55.090097Z",
     "start_time": "2022-01-09T08:31:53.118443Z"
    }
   },
   "outputs": [],
   "source": [
    "import cv2\n",
    "import matplotlib.pyplot as plt\n",
    "import numpy as np"
   ]
  },
  {
   "cell_type": "code",
   "execution_count": 2,
   "id": "2645892c",
   "metadata": {
    "ExecuteTime": {
     "end_time": "2022-01-09T08:31:55.137176Z",
     "start_time": "2022-01-09T08:31:55.093124Z"
    }
   },
   "outputs": [
    {
     "name": "stdout",
     "output_type": "stream",
     "text": [
      "[[255 255 255 ... 255 255 255]\n",
      " [255 255 255 ... 255 255 255]\n",
      " [255 255   0 ...   0   0 255]\n",
      " ...\n",
      " [255 255   0 ... 255   0 255]\n",
      " [255 255   0 ...   0   0 255]\n",
      " [255 255 255 ... 255 255 255]]\n"
     ]
    }
   ],
   "source": [
    "maze1 = np.array(\n",
    "[1,1,1,1,1,1,1,1,1,1,1,1,1,1,1,1,0,1,1,1,1,1,1,1,1,1,1,1,1,1,1,1,\n",
    "1,1,1,1,1,1,1,1,1,1,1,1,1,1,1,1,0,1,1,1,1,1,1,1,1,1,1,1,1,1,1,1,\n",
    "1,1,0,0,0,0,0,0,0,1,0,0,0,1,0,0,0,1,0,0,0,0,0,0,0,1,0,0,0,0,0,1,\n",
    "1,1,0,1,1,1,1,1,1,1,0,1,0,1,0,1,0,1,0,1,1,1,1,1,0,1,1,1,0,1,1,1,\n",
    "1,1,0,0,0,0,0,0,0,1,0,1,0,0,0,1,0,0,0,1,0,0,0,1,0,0,0,1,0,0,0,1,\n",
    "1,1,1,1,0,1,0,1,0,1,0,1,1,1,1,1,1,1,1,1,1,1,0,1,1,1,0,1,0,1,1,1,\n",
    "1,1,0,1,0,1,0,1,0,0,0,1,0,0,0,0,0,0,0,0,0,1,0,0,0,0,0,0,0,0,0,1,\n",
    "1,1,0,1,0,1,0,1,1,1,1,1,0,1,1,1,0,1,1,1,0,1,0,1,1,1,0,1,1,1,1,1,\n",
    "1,1,0,0,0,1,0,0,0,0,0,1,0,1,0,0,0,1,0,0,0,1,0,1,0,0,0,1,0,0,0,1,\n",
    "1,1,1,1,1,1,1,1,1,1,0,1,0,1,1,1,1,1,0,1,0,1,1,1,0,1,1,1,1,1,0,1,\n",
    "1,1,0,0,0,0,0,0,0,1,0,1,0,0,0,0,0,1,0,1,0,1,0,0,0,1,0,0,0,0,0,1,\n",
    "1,1,1,1,0,1,1,1,0,1,0,1,1,1,1,1,0,1,1,1,0,1,0,1,1,1,1,1,0,1,0,1,\n",
    "1,1,0,0,0,0,0,1,0,1,0,0,0,1,0,0,0,1,0,0,0,1,0,0,0,0,0,0,0,1,0,1,\n",
    "1,1,1,1,1,1,1,1,0,1,1,1,0,1,0,1,1,1,1,1,0,1,0,1,0,1,0,1,0,1,1,1,\n",
    "1,1,0,0,0,1,0,0,0,0,0,0,0,1,0,1,0,0,0,1,0,0,0,1,0,1,0,1,0,0,0,1,\n",
    "1,1,0,1,0,1,0,1,0,1,1,1,1,1,0,1,0,1,1,1,1,1,1,1,1,1,0,1,1,1,1,1,\n",
    "1,1,0,1,0,1,0,1,0,1,0,0,0,0,0,1,0,0,0,0,0,0,0,0,0,1,0,0,0,0,0,1,\n",
    "1,1,1,1,0,1,1,1,0,1,0,1,0,1,1,1,0,1,1,1,0,1,1,1,1,1,1,1,1,1,1,1,\n",
    "1,1,0,1,0,0,0,0,0,1,0,1,0,0,0,0,0,0,0,1,0,1,0,0,0,0,0,1,0,0,0,1,\n",
    "1,1,0,1,0,1,0,1,0,1,0,1,0,1,0,1,1,1,0,1,0,1,1,1,1,1,0,1,0,1,0,1,\n",
    "1,1,0,0,0,1,0,1,0,1,0,0,0,1,0,1,0,1,0,1,0,1,0,0,0,0,0,0,0,1,0,1,\n",
    "1,1,0,1,1,1,0,1,1,1,1,1,1,1,1,1,0,1,0,1,1,1,0,1,0,1,1,1,0,1,0,1,\n",
    "1,1,0,1,0,1,0,0,0,0,0,1,0,1,0,0,0,0,0,0,0,0,0,1,0,0,0,1,0,1,0,1,\n",
    "1,1,1,1,0,1,1,1,1,1,0,1,0,1,1,1,1,1,1,1,1,1,0,1,1,1,0,1,0,1,1,1,\n",
    "1,1,0,1,0,1,0,0,0,0,0,0,0,1,0,1,0,0,0,0,0,1,0,1,0,0,0,0,0,0,0,1,\n",
    "1,1,0,1,0,1,1,1,0,1,0,1,1,1,0,1,1,1,1,1,1,1,0,1,0,1,1,1,1,1,0,1,\n",
    "1,1,0,0,0,1,0,0,0,1,0,1,0,1,0,0,0,0,0,1,0,1,0,1,0,1,0,0,0,0,0,1,\n",
    "1,1,0,1,1,1,1,1,0,1,0,1,0,1,1,1,0,1,1,1,0,1,0,1,0,1,1,1,1,1,0,1,\n",
    "1,1,0,0,0,0,0,1,0,1,0,0,0,1,0,0,0,0,0,0,0,0,0,1,0,0,0,1,0,1,0,1,\n",
    "1,1,0,1,1,1,1,1,1,1,1,1,0,1,0,1,0,1,1,1,1,1,0,1,1,1,0,1,0,1,0,1,\n",
    "1,1,0,0,0,0,0,0,0,0,0,0,0,0,0,1,0,1,0,0,0,0,0,0,0,0,0,1,0,0,0,1,\n",
    "1,1,1,1,1,1,1,1,1,1,1,1,1,1,1,1,0,1,1,1,1,1,1,1,1,1,1,1,1,1,1,1])\n",
    "maze1 = maze1.reshape(32, 32)\n",
    "maze1 *= 255\n",
    "print(maze1)"
   ]
  },
  {
   "cell_type": "code",
   "execution_count": 3,
   "id": "2997a446",
   "metadata": {
    "ExecuteTime": {
     "end_time": "2022-01-09T08:31:55.401501Z",
     "start_time": "2022-01-09T08:31:55.139052Z"
    }
   },
   "outputs": [
    {
     "data": {
      "text/plain": [
       "True"
      ]
     },
     "execution_count": 3,
     "metadata": {},
     "output_type": "execute_result"
    },
    {
     "data": {
      "image/png": "[encoded data removed]",
      "text/plain": [
       "<Figure size 432x288 with 1 Axes>"
      ]
     },
     "metadata": {
      "needs_background": "light"
     },
     "output_type": "display_data"
    }
   ],
   "source": [
    "dst1 = cv2.resize(maze1, (0, 0), fx = 4, fy = 4, interpolation = cv2.INTER_NEAREST)\n",
    "plt.imshow(dst1, cmap = \"gray\")\n",
    "cv2.imwrite('maze8.bmp', dst1)"
   ]
  },
  {
   "cell_type": "code",
   "execution_count": 4,
   "id": "6adf64f7",
   "metadata": {
    "ExecuteTime": {
     "end_time": "2022-01-09T08:31:57.087790Z",
     "start_time": "2022-01-09T08:31:57.050027Z"
    }
   },
   "outputs": [
    {
     "name": "stdout",
     "output_type": "stream",
     "text": [
      "[[  0   0   0 ...   0   0   0]\n",
      " [  0   0   0 ...   0   0   0]\n",
      " [  0   0 255 ... 255 255   0]\n",
      " ...\n",
      " [  0   0 255 ...   0 255   0]\n",
      " [  0   0 255 ... 255 255   0]\n",
      " [  0   0   0 ...   0   0   0]]\n"
     ]
    }
   ],
   "source": [
    "maze2 = np.array(\n",
    "[0,0,0,0,0,0,0,0,0,0,0,0,0,0,0,0,1,0,0,0,0,0,0,0,0,0,0,0,0,0,0,0,\n",
    "0,0,0,0,0,0,0,0,0,0,0,0,0,0,0,0,1,0,0,0,0,0,0,0,0,0,0,0,0,0,0,0,\n",
    "0,0,1,1,1,0,1,1,1,1,1,1,1,0,1,0,1,1,1,1,1,0,1,1,1,1,1,0,1,1,1,0,\n",
    "0,0,0,0,1,0,0,0,1,0,0,0,1,0,1,0,1,0,0,0,1,0,1,0,0,0,0,0,1,0,1,0,\n",
    "0,0,1,1,1,1,1,1,1,0,1,1,1,1,1,1,1,0,1,0,1,1,1,0,1,1,1,1,1,0,1,0,\n",
    "0,0,1,0,1,0,0,0,0,0,1,0,0,0,0,0,0,0,1,0,1,0,0,0,1,0,0,0,1,0,0,0,\n",
    "0,0,1,0,1,0,1,1,1,0,1,0,1,1,1,1,1,1,1,0,1,0,1,0,1,0,1,1,1,1,1,0,\n",
    "0,0,0,0,1,0,0,0,1,0,0,0,1,0,0,0,1,0,0,0,1,0,1,0,1,0,1,0,0,0,1,0,\n",
    "0,0,1,1,1,1,1,1,1,1,1,1,1,1,1,1,1,1,1,1,1,0,1,0,1,1,1,0,1,0,1,0,\n",
    "0,0,0,0,0,0,1,0,1,0,0,0,0,0,1,0,0,0,1,0,1,0,1,0,0,0,1,0,1,0,1,0,\n",
    "0,0,1,1,1,1,1,0,1,0,1,1,1,1,1,0,1,0,1,0,1,1,1,1,1,1,1,0,1,1,1,0,\n",
    "0,0,0,0,1,0,0,0,1,0,0,0,0,0,1,0,1,0,0,0,0,0,1,0,0,0,1,0,1,0,0,0,\n",
    "0,0,1,0,1,0,1,1,1,1,1,0,1,1,1,0,1,1,1,1,1,0,1,0,1,0,1,0,1,1,1,0,\n",
    "0,0,1,0,1,0,0,0,0,0,1,0,1,0,0,0,0,0,1,0,1,0,0,0,1,0,0,0,0,0,1,0,\n",
    "0,0,1,1,1,0,1,1,1,0,1,0,1,1,1,1,1,0,1,0,1,1,1,0,1,1,1,0,1,0,1,0,\n",
    "0,0,0,0,0,0,1,0,1,0,1,0,0,0,0,0,1,0,1,0,1,0,1,0,0,0,1,0,1,0,1,0,\n",
    "0,0,1,1,1,1,1,0,1,1,1,0,1,1,1,0,1,1,1,0,1,0,1,1,1,1,1,0,1,0,1,0,\n",
    "0,0,1,0,1,0,0,0,0,0,0,0,1,0,1,0,0,0,0,0,1,0,0,0,0,0,1,0,1,0,1,0,\n",
    "0,0,1,0,1,0,1,1,1,1,1,1,1,0,1,1,1,1,1,1,1,1,1,1,1,1,1,1,1,0,1,0,\n",
    "0,0,1,0,0,0,0,0,1,0,0,0,0,0,0,0,0,0,0,0,1,0,1,0,0,0,1,0,1,0,1,0,\n",
    "0,0,1,1,1,1,1,1,1,0,1,1,1,1,1,1,1,0,1,0,1,0,1,0,1,0,1,0,1,0,1,0,\n",
    "0,0,1,0,0,0,0,0,0,0,1,0,1,0,0,0,1,0,1,0,0,0,1,0,1,0,1,0,1,0,1,0,\n",
    "0,0,1,0,1,1,1,1,1,1,1,0,1,0,1,1,1,0,1,1,1,0,1,0,1,1,1,0,1,0,1,0,\n",
    "0,0,1,0,1,0,1,0,0,0,0,0,0,0,1,0,0,0,1,0,0,0,0,0,1,0,1,0,1,0,0,0,\n",
    "0,0,1,1,1,0,1,1,1,1,1,1,1,0,1,1,1,1,1,1,1,1,1,0,1,0,1,0,1,1,1,0,\n",
    "0,0,0,0,1,0,1,0,0,0,0,0,0,0,0,0,0,0,0,0,1,0,1,0,1,0,0,0,0,0,1,0,\n",
    "0,0,1,1,1,1,1,0,1,1,1,0,1,0,1,1,1,1,1,1,1,0,1,0,1,1,1,1,1,0,1,0,\n",
    "0,0,1,0,1,0,0,0,1,0,0,0,1,0,0,0,1,0,0,0,1,0,1,0,1,0,0,0,1,0,0,0,\n",
    "0,0,1,0,1,1,1,0,1,1,1,0,1,1,1,1,1,0,1,1,1,1,1,0,1,0,1,0,1,0,1,0,\n",
    "0,0,1,0,0,0,1,0,1,0,1,0,0,0,0,0,1,0,0,0,0,0,1,0,0,0,1,0,0,0,1,0,\n",
    "0,0,1,1,1,1,1,1,1,0,1,1,1,1,1,0,1,1,1,1,1,1,1,1,1,1,1,1,1,1,1,0,\n",
    "0,0,0,0,0,0,0,0,0,0,0,0,0,0,0,0,1,0,0,0,0,0,0,0,0,0,0,0,0,0,0,0])\n",
    "\n",
    "maze2 = maze2.reshape(32, 32)\n",
    "maze2 *= 255\n",
    "print(maze2)"
   ]
  },
  {
   "cell_type": "code",
   "execution_count": 5,
   "id": "793ac8f4",
   "metadata": {
    "ExecuteTime": {
     "end_time": "2022-01-09T08:31:58.026849Z",
     "start_time": "2022-01-09T08:31:57.888771Z"
    }
   },
   "outputs": [
    {
     "data": {
      "text/plain": [
       "True"
      ]
     },
     "execution_count": 5,
     "metadata": {},
     "output_type": "execute_result"
    },
    {
     "data": {
      "image/png": "[encoded data removed]",
      "text/plain": [
       "<Figure size 432x288 with 1 Axes>"
      ]
     },
     "metadata": {
      "needs_background": "light"
     },
     "output_type": "display_data"
    }
   ],
   "source": [
    "dst2 = cv2.resize(maze2, (0, 0), fx = 4, fy = 4, interpolation = cv2.INTER_NEAREST)\n",
    "plt.imshow(dst2, cmap = \"gray\")\n",
    "cv2.imwrite('maze9.bmp', dst2)"
   ]
  },
  {
   "cell_type": "code",
   "execution_count": 6,
   "id": "47663613",
   "metadata": {
    "ExecuteTime": {
     "end_time": "2022-01-09T08:32:00.579751Z",
     "start_time": "2022-01-09T08:32:00.536602Z"
    }
   },
   "outputs": [
    {
     "name": "stdout",
     "output_type": "stream",
     "text": [
      "[[  0   0   0 ...   0   0   0]\n",
      " [  0   0   0 ...   0   0   0]\n",
      " [  0   0 255 ... 255 255   0]\n",
      " ...\n",
      " [  0   0 255 ... 255 255   0]\n",
      " [  0   0 255 ... 255 255   0]\n",
      " [  0   0   0 ...   0   0   0]]\n"
     ]
    }
   ],
   "source": [
    "maze3 = np.array(\n",
    "[0,0,0,0,0,0,0,0,0,0,0,0,0,0,0,0,1,0,0,0,0,0,0,0,0,0,0,0,0,0,0,0,\n",
    "0,0,0,0,0,0,0,0,0,0,0,0,0,0,0,0,1,0,0,0,0,0,0,0,0,0,0,0,0,0,0,0,\n",
    "0,0,1,1,1,1,1,1,1,1,1,1,1,0,1,1,1,0,1,1,1,1,1,1,1,1,1,1,1,1,1,0,\n",
    "0,0,1,1,1,1,1,1,1,0,0,0,1,0,0,0,1,0,1,0,0,0,0,0,0,0,1,0,0,0,1,0,\n",
    "0,0,1,1,1,1,1,1,1,0,1,0,1,1,1,1,1,0,1,0,1,0,1,1,1,1,1,0,1,0,1,0,\n",
    "0,0,0,0,1,0,1,0,0,0,1,0,1,0,0,0,1,0,1,0,1,0,1,0,1,1,1,0,1,0,1,0,\n",
    "0,0,1,1,1,0,1,1,1,0,1,0,1,1,1,0,1,1,1,0,1,1,1,0,1,1,1,0,1,1,1,0,\n",
    "0,0,0,0,1,0,0,0,1,0,1,0,0,0,1,0,1,0,0,0,0,0,0,0,1,1,1,0,0,0,0,0,\n",
    "0,0,1,1,1,0,1,0,1,0,1,1,1,1,1,0,1,0,1,1,1,1,1,0,1,1,1,0,1,1,1,0,\n",
    "0,0,1,1,1,0,1,0,1,0,0,0,0,0,1,0,0,0,0,0,1,0,0,0,1,1,1,0,1,0,1,0,\n",
    "0,0,1,1,1,0,1,1,1,0,1,1,1,1,1,0,1,0,1,1,1,1,1,1,1,1,1,0,1,0,1,0,\n",
    "0,0,1,1,1,0,1,0,1,0,1,0,1,1,1,0,1,0,0,0,0,0,1,1,1,1,1,0,1,0,0,0,\n",
    "0,0,1,1,1,0,1,0,1,0,1,0,1,1,1,0,1,1,1,1,1,0,1,1,1,1,1,1,1,1,1,0,\n",
    "0,0,1,1,1,0,0,0,1,0,1,0,0,0,0,0,0,0,0,0,0,0,0,0,1,0,0,0,0,0,0,0,\n",
    "0,0,1,1,1,1,1,0,1,0,1,1,1,1,1,1,1,1,1,0,1,1,1,1,1,0,1,1,1,1,1,0,\n",
    "0,0,0,0,0,0,1,0,1,0,0,0,0,0,1,0,0,0,1,0,0,0,0,0,1,0,0,0,0,0,1,0,\n",
    "0,0,1,0,1,1,1,1,1,0,1,0,1,1,1,0,1,0,1,0,1,1,1,0,1,0,1,1,1,1,1,0,\n",
    "0,0,1,0,0,0,1,0,0,0,1,0,0,0,1,0,1,0,1,0,0,0,1,0,1,0,1,1,1,1,1,0,\n",
    "0,0,1,1,1,1,1,0,1,1,1,0,1,1,1,1,1,0,1,1,1,0,1,0,1,1,1,1,1,1,1,0,\n",
    "0,0,1,0,0,0,0,0,0,0,1,0,0,0,0,0,0,0,1,1,1,0,1,0,1,1,1,0,0,0,1,0,\n",
    "0,0,1,1,1,1,1,1,1,1,1,1,1,1,1,0,1,1,1,1,1,1,1,1,1,1,1,0,1,1,1,0,\n",
    "0,0,0,0,1,1,1,1,1,1,1,1,1,1,1,0,0,0,0,0,1,0,0,0,1,1,1,0,1,0,1,0,\n",
    "0,0,1,0,1,1,1,1,1,1,1,1,1,1,1,1,1,1,1,0,1,0,1,1,1,1,1,0,1,0,1,0,\n",
    "0,0,1,0,1,1,1,0,1,0,0,0,0,0,1,0,0,0,0,0,1,0,0,0,0,0,1,0,1,0,1,0,\n",
    "0,0,1,1,1,1,1,0,1,1,1,1,1,0,1,1,1,1,1,1,1,1,1,0,1,1,1,0,1,0,1,0,\n",
    "0,0,1,0,1,1,1,0,1,0,0,0,0,0,1,0,0,0,1,0,0,0,0,0,0,0,0,0,1,0,0,0,\n",
    "0,0,1,0,1,1,1,0,1,0,1,1,1,1,1,1,1,0,1,1,1,0,1,1,1,1,1,0,1,1,1,0,\n",
    "0,0,1,0,0,0,0,0,1,0,1,1,1,1,1,1,1,1,1,0,1,0,1,1,1,1,1,0,0,0,0,0,\n",
    "0,0,1,0,1,1,1,1,1,0,1,1,1,1,1,1,1,0,1,0,1,0,1,1,1,1,1,1,1,1,1,0,\n",
    "0,0,1,0,1,0,0,0,1,0,0,0,0,0,0,0,1,0,1,0,0,0,1,1,1,1,1,1,1,1,1,0,\n",
    "0,0,1,0,1,1,1,0,1,1,1,1,1,1,1,1,1,0,1,1,1,1,1,1,1,1,1,1,1,1,1,0,\n",
    "0,0,0,0,0,0,0,0,0,0,0,0,0,0,0,0,1,0,0,0,0,0,0,0,0,0,0,0,0,0,0,0])\n",
    "\n",
    "maze3 = maze3.reshape(32, 32)\n",
    "maze3 *= 255\n",
    "print(maze3)"
   ]
  },
  {
   "cell_type": "code",
   "execution_count": 7,
   "id": "e77a317e",
   "metadata": {
    "ExecuteTime": {
     "end_time": "2022-01-09T08:32:01.150240Z",
     "start_time": "2022-01-09T08:32:00.999495Z"
    }
   },
   "outputs": [
    {
     "data": {
      "text/plain": [
       "True"
      ]
     },
     "execution_count": 7,
     "metadata": {},
     "output_type": "execute_result"
    },
    {
     "data": {
      "image/png": "[encoded data removed]",
      "text/plain": [
       "<Figure size 432x288 with 1 Axes>"
      ]
     },
     "metadata": {
      "needs_background": "light"
     },
     "output_type": "display_data"
    }
   ],
   "source": [
    "dst3 = cv2.resize(maze3, (0, 0), fx = 4, fy = 4, interpolation = cv2.INTER_NEAREST)\n",
    "plt.imshow(dst3, cmap = \"gray\")\n",
    "cv2.imwrite('maze10.bmp', dst3)"
   ]
  },
  {
   "cell_type": "code",
   "execution_count": 13,
   "id": "8ad3ee50",
   "metadata": {
    "ExecuteTime": {
     "end_time": "2022-01-09T11:11:11.448554Z",
     "start_time": "2022-01-09T11:11:11.274642Z"
    }
   },
   "outputs": [
    {
     "name": "stdout",
     "output_type": "stream",
     "text": [
      "[[255 255 255 255 255 255 255   0 255   0 255 255 255 255 255 255]\n",
      " [255   0   0   0   0   0   0   0 255   0   0   0   0   0   0   0]\n",
      " [255   0 255 255 255   0 255 255 255   0 255 255 255 255 255   0]\n",
      " [255   0 255 255 255   0 255   0 255   0 255 255 255   0 255   0]\n",
      " [255   0 255 255 255 255 255   0 255 255 255 255 255   0 255   0]\n",
      " [255   0 255   0   0   0   0   0   0   0 255 255 255   0 255   0]\n",
      " [255   0 255 255 255   0 255 255 255 255 255 255 255   0 255   0]\n",
      " [255   0   0   0 255   0   0   0   0   0   0   0   0   0   0   0]\n",
      " [255   0 255   0 255 255 255 255 255   0 255 255 255   0 255   0]\n",
      " [255   0 255   0 255 255 255 255 255   0 255   0 255   0 255   0]\n",
      " [255   0 255 255 255 255 255 255 255 255 255   0 255 255 255   0]\n",
      " [255   0   0   0   0   0   0   0 255   0   0   0   0   0 255   0]\n",
      " [255   0 255   0 255 255 255   0 255   0 255 255 255 255 255   0]\n",
      " [255   0 255   0 255   0 255   0   0   0   0   0 255   0   0   0]\n",
      " [255   0 255 255 255   0 255 255 255 255 255 255 255 255 255   0]\n",
      " [255   0   0   0   0   0   0   0 255   0   0   0   0   0   0   0]]\n"
     ]
    },
    {
     "data": {
      "text/plain": [
       "True"
      ]
     },
     "execution_count": 13,
     "metadata": {},
     "output_type": "execute_result"
    },
    {
     "data": {
      "image/png": "[encoded data removed]",
      "text/plain": [
       "<Figure size 432x288 with 1 Axes>"
      ]
     },
     "metadata": {
      "needs_background": "light"
     },
     "output_type": "display_data"
    }
   ],
   "source": [
    "maze4 = np.array(\n",
    "[1,1,1,1,1,1,1,0,1,0,1,1,1,1,1,1,\n",
    "1,0,0,0,0,0,0,0,1,0,0,0,0,0,0,0,\n",
    "1,0,1,1,1,0,1,1,1,0,1,1,1,1,1,0,\n",
    "1,0,1,1,1,0,1,0,1,0,1,1,1,0,1,0,\n",
    "1,0,1,1,1,1,1,0,1,1,1,1,1,0,1,0,\n",
    "1,0,1,0,0,0,0,0,0,0,1,1,1,0,1,0,\n",
    "1,0,1,1,1,0,1,1,1,1,1,1,1,0,1,0,\n",
    "1,0,0,0,1,0,0,0,0,0,0,0,0,0,0,0,\n",
    "1,0,1,0,1,1,1,1,1,0,1,1,1,0,1,0,\n",
    "1,0,1,0,1,1,1,1,1,0,1,0,1,0,1,0,\n",
    "1,0,1,1,1,1,1,1,1,1,1,0,1,1,1,0,\n",
    "1,0,0,0,0,0,0,0,1,0,0,0,0,0,1,0,\n",
    "1,0,1,0,1,1,1,0,1,0,1,1,1,1,1,0,\n",
    "1,0,1,0,1,0,1,0,0,0,0,0,1,0,0,0,\n",
    "1,0,1,1,1,0,1,1,1,1,1,1,1,1,1,0,\n",
    "1,0,0,0,0,0,0,0,1,0,0,0,0,0,0,0])\n",
    "\n",
    "maze4 = maze4.reshape(16, 16)\n",
    "maze4 *= 255\n",
    "print(maze4)\n",
    "dst4 = cv2.resize(maze4, (0, 0), fx = 8, fy = 8, interpolation = cv2.INTER_NEAREST)\n",
    "plt.imshow(dst4, cmap = \"gray\")\n",
    "cv2.imwrite('maze1.bmp', dst4)"
   ]
  },
  {
   "cell_type": "code",
   "execution_count": 12,
   "id": "c40cbc9e",
   "metadata": {
    "ExecuteTime": {
     "end_time": "2022-01-09T11:11:08.781136Z",
     "start_time": "2022-01-09T11:11:08.607769Z"
    }
   },
   "outputs": [
    {
     "data": {
      "text/plain": [
       "True"
      ]
     },
     "execution_count": 12,
     "metadata": {},
     "output_type": "execute_result"
    },
    {
     "data": {
      "image/png": "[encoded data removed]",
      "text/plain": [
       "<Figure size 432x288 with 1 Axes>"
      ]
     },
     "metadata": {
      "needs_background": "light"
     },
     "output_type": "display_data"
    }
   ],
   "source": [
    "maze5 = np.array(\n",
    "[1,1,1,1,1,1,1,0,1,0,1,1,1,1,1,1,\n",
    "1,0,0,0,0,0,0,0,1,0,0,0,0,0,0,0,\n",
    "1,0,1,1,1,1,1,1,1,0,1,1,1,1,1,0,\n",
    "1,0,0,0,1,0,0,0,1,0,1,0,0,0,1,0,\n",
    "1,0,1,1,1,0,1,0,1,1,1,0,1,0,1,0,\n",
    "1,0,0,0,1,0,1,0,0,0,0,0,1,0,1,0,\n",
    "1,0,1,1,1,0,1,0,1,1,1,1,1,1,1,0,\n",
    "1,0,1,0,0,0,1,0,1,0,1,0,0,0,0,0,\n",
    "1,0,1,0,1,1,1,1,1,0,1,1,1,1,1,0,\n",
    "1,0,1,0,0,0,0,0,1,0,0,0,0,0,1,0,\n",
    "1,0,1,1,1,1,1,0,1,0,1,1,1,0,1,0,\n",
    "1,0,0,0,1,0,1,0,1,0,0,0,1,0,1,0,\n",
    "1,0,1,1,1,0,1,1,1,1,1,0,1,1,1,0,\n",
    "1,0,1,0,1,0,1,0,0,0,1,0,1,0,0,0,\n",
    "1,0,1,0,1,0,1,1,1,1,1,1,1,1,1,0,\n",
    "1,0,0,0,0,0,0,0,1,0,0,0,0,0,0,0])\n",
    "\n",
    "maze5 = maze5.reshape(16, 16)\n",
    "maze5 *= 255\n",
    "dst5 = cv2.resize(maze5, (0, 0), fx = 8, fy = 8, interpolation = cv2.INTER_NEAREST)\n",
    "plt.imshow(dst5, cmap = \"gray\")\n",
    "cv2.imwrite('maze2.bmp', dst5)"
   ]
  },
  {
   "cell_type": "code",
   "execution_count": 14,
   "id": "09b998bd",
   "metadata": {
    "ExecuteTime": {
     "end_time": "2022-01-09T11:19:19.543099Z",
     "start_time": "2022-01-09T11:19:19.378617Z"
    }
   },
   "outputs": [
    {
     "data": {
      "text/plain": [
       "True"
      ]
     },
     "execution_count": 14,
     "metadata": {},
     "output_type": "execute_result"
    },
    {
     "data": {
      "image/png": "[encoded data removed]",
      "text/plain": [
       "<Figure size 432x288 with 1 Axes>"
      ]
     },
     "metadata": {
      "needs_background": "light"
     },
     "output_type": "display_data"
    }
   ],
   "source": [
    "maze6 = np.array(\n",
    "[1,1,1,1,1,1,1,0,1,0,1,1,1,1,1,1,\n",
    "1,0,0,0,0,0,0,0,1,0,0,0,0,0,0,0,\n",
    "1,0,1,1,1,1,1,1,1,1,1,1,1,1,1,0,\n",
    "1,0,1,0,0,0,1,0,0,0,0,0,0,0,1,0,\n",
    "1,0,1,1,1,0,1,1,1,0,1,0,1,1,1,0,\n",
    "1,0,0,0,1,0,0,0,1,0,1,0,1,0,0,0,\n",
    "1,0,1,1,1,1,1,1,1,0,1,1,1,1,1,0,\n",
    "1,0,1,0,0,0,0,0,1,0,0,0,0,0,1,0,\n",
    "1,0,1,1,1,0,1,1,1,0,1,1,1,1,1,0,\n",
    "1,0,1,0,0,0,0,0,0,0,1,0,1,0,0,0,\n",
    "1,0,1,1,1,0,1,1,1,1,1,0,1,1,1,0,\n",
    "1,0,0,0,0,0,1,0,0,0,0,0,0,0,1,0,\n",
    "1,0,1,1,1,1,1,0,1,1,1,0,1,1,1,0,\n",
    "1,0,1,0,0,0,0,0,1,0,1,0,1,0,0,0,\n",
    "1,0,1,1,1,1,1,1,1,0,1,1,1,1,1,0,\n",
    "1,0,0,0,0,0,0,0,1,0,0,0,0,0,0,0])\n",
    "\n",
    "maze6 = maze6.reshape(16, 16)\n",
    "maze6 *= 255\n",
    "dst6 = cv2.resize(maze6, (0, 0), fx = 8, fy = 8, interpolation = cv2.INTER_NEAREST)\n",
    "plt.imshow(dst6, cmap = \"gray\")\n",
    "cv2.imwrite('maze3.bmp', dst6)"
   ]
  },
  {
   "cell_type": "code",
   "execution_count": null,
   "id": "3b866abe",
   "metadata": {},
   "outputs": [],
   "source": []
  }
 ],
 "metadata": {
  "kernelspec": {
   "display_name": "Python 3",
   "language": "python",
   "name": "python3"
  },
  "language_info": {
   "codemirror_mode": {
    "name": "ipython",
    "version": 3
   },
   "file_extension": ".py",
   "mimetype": "text/x-python",
   "name": "python",
   "nbconvert_exporter": "python",
   "pygments_lexer": "ipython3",
   "version": "3.8.8"
  },
  "toc": {
   "base_numbering": 1,
   "nav_menu": {},
   "number_sections": true,
   "sideBar": true,
   "skip_h1_title": false,
   "title_cell": "Table of Contents",
   "title_sidebar": "Contents",
   "toc_cell": false,
   "toc_position": {},
   "toc_section_display": true,
   "toc_window_display": false
  }
 },
 "nbformat": 4,
 "nbformat_minor": 5
}
